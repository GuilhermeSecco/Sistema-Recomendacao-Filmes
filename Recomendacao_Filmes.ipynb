{
 "cells": [
  {
   "cell_type": "code",
   "execution_count": 1,
   "id": "e9dc367e-b6ec-4887-857f-858564daf63e",
   "metadata": {},
   "outputs": [],
   "source": [
    "#Importando as bibliotecas"
   ]
  },
  {
   "cell_type": "code",
   "execution_count": 2,
   "id": "103b8afd-652d-4f6c-90f1-d78c187c9366",
   "metadata": {},
   "outputs": [],
   "source": [
    "import numpy as np\n",
    "import pandas as pd"
   ]
  },
  {
   "cell_type": "code",
   "execution_count": 3,
   "id": "3c80f628-cecf-4f34-b166-a2fcc2bbfc41",
   "metadata": {},
   "outputs": [],
   "source": [
    "#importando o dataset de filmes"
   ]
  },
  {
   "cell_type": "code",
   "execution_count": 4,
   "id": "92df9f15-40c1-4312-987a-1bb68bc431e5",
   "metadata": {},
   "outputs": [
    {
     "name": "stdout",
     "output_type": "stream",
     "text": [
      "   adult                              belongs_to_collection    budget  \\\n",
      "0  False  {'id': 10194, 'name': 'Toy Story Collection', ...  30000000   \n",
      "1  False                                                NaN  65000000   \n",
      "2  False  {'id': 119050, 'name': 'Grumpy Old Men Collect...         0   \n",
      "\n",
      "                                              genres  \\\n",
      "0  [{'id': 16, 'name': 'Animation'}, {'id': 35, '...   \n",
      "1  [{'id': 12, 'name': 'Adventure'}, {'id': 14, '...   \n",
      "2  [{'id': 10749, 'name': 'Romance'}, {'id': 35, ...   \n",
      "\n",
      "                               homepage     id    imdb_id original_language  \\\n",
      "0  http://toystory.disney.com/toy-story    862  tt0114709                en   \n",
      "1                                   NaN   8844  tt0113497                en   \n",
      "2                                   NaN  15602  tt0113228                en   \n",
      "\n",
      "     original_title                                           overview  ...  \\\n",
      "0         Toy Story  Led by Woody, Andy's toys live happily in his ...  ...   \n",
      "1           Jumanji  When siblings Judy and Peter discover an encha...  ...   \n",
      "2  Grumpier Old Men  A family wedding reignites the ancient feud be...  ...   \n",
      "\n",
      "  release_date      revenue runtime  \\\n",
      "0   1995-10-30  373554033.0    81.0   \n",
      "1   1995-12-15  262797249.0   104.0   \n",
      "2   1995-12-22          0.0   101.0   \n",
      "\n",
      "                                    spoken_languages    status  \\\n",
      "0           [{'iso_639_1': 'en', 'name': 'English'}]  Released   \n",
      "1  [{'iso_639_1': 'en', 'name': 'English'}, {'iso...  Released   \n",
      "2           [{'iso_639_1': 'en', 'name': 'English'}]  Released   \n",
      "\n",
      "                                             tagline             title  video  \\\n",
      "0                                                NaN         Toy Story  False   \n",
      "1          Roll the dice and unleash the excitement!           Jumanji  False   \n",
      "2  Still Yelling. Still Fighting. Still Ready for...  Grumpier Old Men  False   \n",
      "\n",
      "  vote_average vote_count  \n",
      "0          7.7     5415.0  \n",
      "1          6.9     2413.0  \n",
      "2          6.5       92.0  \n",
      "\n",
      "[3 rows x 24 columns]\n"
     ]
    }
   ],
   "source": [
    "filmes = pd.read_csv('movies_metadata.csv', low_memory=False)\n",
    "print(filmes.head(3))"
   ]
  },
  {
   "cell_type": "code",
   "execution_count": 5,
   "id": "6dcba83b-6ba4-4ef9-b5da-fb811df289d0",
   "metadata": {},
   "outputs": [],
   "source": [
    "#Separando e renomeando as colunas"
   ]
  },
  {
   "cell_type": "code",
   "execution_count": 6,
   "id": "0ba640c5-1dda-4547-8176-9482e8367550",
   "metadata": {},
   "outputs": [
    {
     "name": "stdout",
     "output_type": "stream",
     "text": [
      "      id    original_title original_language  vote_count\n",
      "0    862         Toy Story                en      5415.0\n",
      "1   8844           Jumanji                en      2413.0\n",
      "2  15602  Grumpier Old Men                en        92.0\n"
     ]
    }
   ],
   "source": [
    "filmes = filmes[['id','original_title','original_language','vote_count']]\n",
    "print(filmes.head(3))"
   ]
  },
  {
   "cell_type": "code",
   "execution_count": 7,
   "id": "c3e9e18a-497a-4701-bb39-71bda5890f41",
   "metadata": {},
   "outputs": [],
   "source": [
    "#Verificando valores nulos"
   ]
  },
  {
   "cell_type": "code",
   "execution_count": 8,
   "id": "d41a259b-f0c0-485f-a815-2e80a6f29845",
   "metadata": {},
   "outputs": [
    {
     "name": "stdout",
     "output_type": "stream",
     "text": [
      "id                    0\n",
      "original_title        0\n",
      "original_language    11\n",
      "vote_count            6\n",
      "dtype: int64\n"
     ]
    }
   ],
   "source": [
    "print(filmes.isnull().sum())"
   ]
  },
  {
   "cell_type": "code",
   "execution_count": 9,
   "id": "10db0530-9e9a-4e0f-9b85-4ed81b3ec911",
   "metadata": {},
   "outputs": [],
   "source": [
    "#Como possuem poucos valores nulos, optei por dropar as linhas correspondentes"
   ]
  },
  {
   "cell_type": "code",
   "execution_count": 10,
   "id": "acb5c2d2-0b59-4f4e-b0d4-c0aecfecb718",
   "metadata": {},
   "outputs": [
    {
     "name": "stdout",
     "output_type": "stream",
     "text": [
      "id                   0\n",
      "original_title       0\n",
      "original_language    0\n",
      "vote_count           0\n",
      "dtype: int64\n"
     ]
    }
   ],
   "source": [
    "filmes.dropna(inplace=True)\n",
    "print(filmes.isnull().sum())"
   ]
  },
  {
   "cell_type": "code",
   "execution_count": 11,
   "id": "8e8add00-6520-44f0-88f0-3f5823ac18bd",
   "metadata": {},
   "outputs": [],
   "source": [
    "#Importando o dataset de avaliações"
   ]
  },
  {
   "cell_type": "code",
   "execution_count": 12,
   "id": "7c7b15aa-fdd6-4c0d-bc71-2a6048d09169",
   "metadata": {},
   "outputs": [
    {
     "name": "stdout",
     "output_type": "stream",
     "text": [
      "   userId  movieId  rating   timestamp\n",
      "0       1      110     1.0  1425941529\n",
      "1       1      147     4.5  1425942435\n",
      "2       1      858     5.0  1425941523\n",
      "Index(['userId', 'movieId', 'rating', 'timestamp'], dtype='object')\n"
     ]
    }
   ],
   "source": [
    "avaliacao = pd.read_csv('ratings.csv')\n",
    "print(avaliacao.head(3))\n",
    "print(avaliacao.columns)"
   ]
  },
  {
   "cell_type": "code",
   "execution_count": 13,
   "id": "f90ed4c5-3763-4f5f-9557-3dc6c3ce38e8",
   "metadata": {},
   "outputs": [],
   "source": [
    "#Separando as colunas que serão utilizadas"
   ]
  },
  {
   "cell_type": "code",
   "execution_count": 14,
   "id": "c34a6faf-32b8-4f06-8daa-bd4b34514f1b",
   "metadata": {},
   "outputs": [
    {
     "name": "stdout",
     "output_type": "stream",
     "text": [
      "   userId  movieId  rating\n",
      "0       1      110     1.0\n",
      "1       1      147     4.5\n",
      "2       1      858     5.0\n"
     ]
    }
   ],
   "source": [
    "avaliacao = avaliacao[['userId','movieId','rating']]\n",
    "print(avaliacao.head(3))"
   ]
  },
  {
   "cell_type": "code",
   "execution_count": 15,
   "id": "4772d370-887a-4d50-81b8-4aeb1cd72c32",
   "metadata": {},
   "outputs": [],
   "source": [
    "#Verificando valores nulos"
   ]
  },
  {
   "cell_type": "code",
   "execution_count": 16,
   "id": "99646c23-64ff-4ea1-b220-b7114c4304a4",
   "metadata": {},
   "outputs": [
    {
     "name": "stdout",
     "output_type": "stream",
     "text": [
      "userId     0\n",
      "movieId    0\n",
      "rating     0\n",
      "dtype: int64\n"
     ]
    }
   ],
   "source": [
    "print(avaliacao.isnull().sum())"
   ]
  },
  {
   "cell_type": "code",
   "execution_count": 17,
   "id": "b00263f9-df21-4065-9192-ce17b3edd178",
   "metadata": {},
   "outputs": [],
   "source": [
    "#Verificando a média de avaliações por usuário"
   ]
  },
  {
   "cell_type": "code",
   "execution_count": 18,
   "id": "1c7777fb-77e8-4a66-b2f0-a7e63e583123",
   "metadata": {},
   "outputs": [
    {
     "name": "stdout",
     "output_type": "stream",
     "text": [
      "96.06745393065974\n"
     ]
    }
   ],
   "source": [
    "print(avaliacao['userId'].value_counts().mean())"
   ]
  },
  {
   "cell_type": "code",
   "execution_count": 19,
   "id": "29ea48d2-5aa5-4cf1-b8a3-7580ff6fd3ce",
   "metadata": {},
   "outputs": [],
   "source": [
    "#Separando Usuários com pelo menos 100 avaliações"
   ]
  },
  {
   "cell_type": "code",
   "execution_count": 20,
   "id": "85d6b54f-174f-43cd-a323-865527daa0cb",
   "metadata": {},
   "outputs": [],
   "source": [
    "qt_avaliacoes = avaliacao['userId'].value_counts() > 99\n",
    "y = qt_avaliacoes[qt_avaliacoes].index"
   ]
  },
  {
   "cell_type": "code",
   "execution_count": 21,
   "id": "f4a41745-6807-4cee-a165-d4e5bd388e4d",
   "metadata": {},
   "outputs": [],
   "source": [
    "#Visualizando a quantidade de indices"
   ]
  },
  {
   "cell_type": "code",
   "execution_count": 22,
   "id": "9eacf206-4fb6-495b-a729-83d7a1d34809",
   "metadata": {},
   "outputs": [
    {
     "name": "stdout",
     "output_type": "stream",
     "text": [
      "(26024289, 3)\n",
      "(64433,)\n"
     ]
    }
   ],
   "source": [
    "print(avaliacao.shape)\n",
    "print(y.shape)"
   ]
  },
  {
   "cell_type": "code",
   "execution_count": 23,
   "id": "79d1bd32-c9db-4c02-9546-3768b5a8a347",
   "metadata": {},
   "outputs": [],
   "source": [
    "#Seperando os usuários que pertencem a y"
   ]
  },
  {
   "cell_type": "code",
   "execution_count": 24,
   "id": "6ce1fb56-9eb6-4cde-b2a6-b061c03410c5",
   "metadata": {},
   "outputs": [],
   "source": [
    "avaliacao = avaliacao[avaliacao['userId'].isin(y)]"
   ]
  },
  {
   "cell_type": "code",
   "execution_count": 25,
   "id": "029421e0-7243-4124-8ec5-017db1d5b082",
   "metadata": {},
   "outputs": [],
   "source": [
    "#Verificando o tamanho do dataset"
   ]
  },
  {
   "cell_type": "code",
   "execution_count": 26,
   "id": "e906a742-2e22-423e-88c6-7983654269e1",
   "metadata": {},
   "outputs": [
    {
     "name": "stdout",
     "output_type": "stream",
     "text": [
      "(20112251, 3)\n"
     ]
    }
   ],
   "source": [
    "print(avaliacao.shape)"
   ]
  },
  {
   "cell_type": "code",
   "execution_count": 27,
   "id": "8496f358-732c-4622-a00b-3c69dc4b65ba",
   "metadata": {},
   "outputs": [],
   "source": [
    "#Separando filmes com pelo menos 1000 avaliações"
   ]
  },
  {
   "cell_type": "code",
   "execution_count": 28,
   "id": "ecf7c78d-5dfd-455b-a2ff-f1356c6f5130",
   "metadata": {},
   "outputs": [
    {
     "name": "stdout",
     "output_type": "stream",
     "text": [
      "     id original_title original_language  vote_count\n",
      "0   862      Toy Story                en      5415.0\n",
      "1  8844        Jumanji                en      2413.0\n",
      "5   949           Heat                en      1886.0\n",
      "(1121, 4)\n"
     ]
    }
   ],
   "source": [
    "filmes = filmes[filmes['vote_count'] > 999]\n",
    "print(filmes.head(3))\n",
    "print(filmes.shape)"
   ]
  },
  {
   "cell_type": "code",
   "execution_count": 29,
   "id": "4a1293d7-3ada-4c54-8f1b-f78af2d380f8",
   "metadata": {},
   "outputs": [],
   "source": [
    "#Verificando a quantidade de filmes por linguagem"
   ]
  },
  {
   "cell_type": "code",
   "execution_count": 30,
   "id": "d81fb758-c9e0-452b-b154-1b38584724ef",
   "metadata": {},
   "outputs": [
    {
     "name": "stdout",
     "output_type": "stream",
     "text": [
      "original_language\n",
      "en    1100\n",
      "fr       5\n",
      "ja       5\n",
      "it       3\n",
      "ko       2\n",
      "pt       1\n",
      "de       1\n",
      "es       1\n",
      "cn       1\n",
      "sv       1\n",
      "id       1\n",
      "Name: count, dtype: int64\n"
     ]
    }
   ],
   "source": [
    "filmes_linguagem = filmes['original_language'].value_counts()\n",
    "print(filmes_linguagem.head(20))"
   ]
  },
  {
   "cell_type": "code",
   "execution_count": 31,
   "id": "a35457ea-a00e-4731-b19a-a952ed23f743",
   "metadata": {},
   "outputs": [],
   "source": [
    "#Selecionando apenas filmes em inglês"
   ]
  },
  {
   "cell_type": "code",
   "execution_count": 32,
   "id": "f09819e6-60fd-47a6-9f39-3c5d2a761f4a",
   "metadata": {},
   "outputs": [
    {
     "name": "stdout",
     "output_type": "stream",
     "text": [
      "        id                  original_title original_language  vote_count\n",
      "0      862                       Toy Story                en      5415.0\n",
      "1     8844                         Jumanji                en      2413.0\n",
      "5      949                            Heat                en      1886.0\n",
      "9      710                       GoldenEye                en      1194.0\n",
      "15     524                          Casino                en      1343.0\n",
      "18    9273  Ace Ventura: When Nature Calls                en      1128.0\n",
      "31      63                  Twelve Monkeys                en      2470.0\n",
      "46     807                           Se7en                en      5915.0\n",
      "47   10530                      Pocahontas                en      1509.0\n",
      "49     629              The Usual Suspects                en      3334.0\n",
      "69     755             From Dusk Till Dawn                en      1644.0\n",
      "108    197                      Braveheart                en      3404.0\n",
      "109    103                     Taxi Driver                en      2632.0\n",
      "142   9737                        Bad Boys                en      1729.0\n",
      "147    568                       Apollo 13                en      1637.0\n",
      "150    414                  Batman Forever                en      1529.0\n",
      "155   8839                          Casper                en      1045.0\n",
      "162   1572      Die Hard: With a Vengeance                en      2094.0\n",
      "205   9804                      Waterworld                en      1017.0\n",
      "227   8467                 Dumb and Dumber                en      1894.0\n"
     ]
    }
   ],
   "source": [
    "filmes = filmes[filmes['original_language'] == 'en']\n",
    "print(filmes.head(20))"
   ]
  },
  {
   "cell_type": "code",
   "execution_count": 33,
   "id": "73be0469-b1d5-406d-a588-c1896b045d75",
   "metadata": {},
   "outputs": [],
   "source": [
    "#Subistituindo o nome da coluna id para possuir o mesmo nome que em avaliações"
   ]
  },
  {
   "cell_type": "code",
   "execution_count": 34,
   "id": "8360e55c-d592-48d2-a6bc-86e76abece27",
   "metadata": {},
   "outputs": [],
   "source": [
    "filmes = filmes.rename(columns={'id':'movieId'})"
   ]
  },
  {
   "cell_type": "code",
   "execution_count": 35,
   "id": "5089a46d-4ab2-4154-b4ff-dc010399302d",
   "metadata": {},
   "outputs": [],
   "source": [
    "#Verificando informações acerca dos datasets"
   ]
  },
  {
   "cell_type": "code",
   "execution_count": 36,
   "id": "8a545761-72f7-4ec9-bcfa-327333e0530d",
   "metadata": {},
   "outputs": [
    {
     "name": "stdout",
     "output_type": "stream",
     "text": [
      "<class 'pandas.core.frame.DataFrame'>\n",
      "Index: 1100 entries, 0 to 44842\n",
      "Data columns (total 4 columns):\n",
      " #   Column             Non-Null Count  Dtype  \n",
      "---  ------             --------------  -----  \n",
      " 0   movieId            1100 non-null   object \n",
      " 1   original_title     1100 non-null   object \n",
      " 2   original_language  1100 non-null   object \n",
      " 3   vote_count         1100 non-null   float64\n",
      "dtypes: float64(1), object(3)\n",
      "memory usage: 43.0+ KB\n",
      "None\n",
      "<class 'pandas.core.frame.DataFrame'>\n",
      "Index: 20112251 entries, 204 to 26024288\n",
      "Data columns (total 3 columns):\n",
      " #   Column   Dtype  \n",
      "---  ------   -----  \n",
      " 0   userId   int64  \n",
      " 1   movieId  int64  \n",
      " 2   rating   float64\n",
      "dtypes: float64(1), int64(2)\n",
      "memory usage: 613.8 MB\n",
      "None\n"
     ]
    }
   ],
   "source": [
    "print(filmes.info())\n",
    "print(avaliacao.info())"
   ]
  },
  {
   "cell_type": "code",
   "execution_count": 37,
   "id": "57d44f0e-5a3d-4b4b-9a01-b9429f143f69",
   "metadata": {},
   "outputs": [],
   "source": [
    "#Modificando o tipo do id para int"
   ]
  },
  {
   "cell_type": "code",
   "execution_count": 38,
   "id": "dc7c3892-e8fc-494d-a2d3-e6fce5da20ac",
   "metadata": {},
   "outputs": [],
   "source": [
    "filmes['movieId'] = filmes['movieId'].astype(int)"
   ]
  },
  {
   "cell_type": "code",
   "execution_count": 39,
   "id": "e0956e34-d11c-4142-8c50-635607214524",
   "metadata": {},
   "outputs": [],
   "source": [
    "#Fundindo os datasets"
   ]
  },
  {
   "cell_type": "code",
   "execution_count": 40,
   "id": "a3e1c4be-a8d7-43e7-80b5-0ec9c2b9acc9",
   "metadata": {},
   "outputs": [],
   "source": [
    "avaliacoes_e_filmes = avaliacao.merge(filmes, on='movieId')"
   ]
  },
  {
   "cell_type": "code",
   "execution_count": 41,
   "id": "2a4e9cc3-8764-4fda-bea1-4e916766c2c3",
   "metadata": {},
   "outputs": [],
   "source": [
    "#Verificando informações do novo dataframe"
   ]
  },
  {
   "cell_type": "code",
   "execution_count": 42,
   "id": "b15e7d2e-2614-48d2-90f2-41f5f0864a94",
   "metadata": {},
   "outputs": [
    {
     "name": "stdout",
     "output_type": "stream",
     "text": [
      "    userId  movieId  rating                      original_title  \\\n",
      "0        8      170     3.0                       28 Days Later   \n",
      "1        8      585     2.0                      Monsters, Inc.   \n",
      "2        8     1265     3.0                Bridge to Terabithia   \n",
      "3        8     2300     2.0                           Space Jam   \n",
      "4        8     4638     3.0                            Hot Fuzz   \n",
      "5       11      165     3.5          Back to the Future Part II   \n",
      "6       11      296     4.0  Terminator 3: Rise of the Machines   \n",
      "7       11      364     3.0                      Batman Returns   \n",
      "8       11      500     4.0                      Reservoir Dogs   \n",
      "9       11     1265     2.5                Bridge to Terabithia   \n",
      "10      11     1573     3.5                          Die Hard 2   \n",
      "11      11    49530     3.5                             In Time   \n",
      "12      11    51540     4.0                     Horrible Bosses   \n",
      "13      12       73     2.0                  American History X   \n",
      "14      12      155     1.0                     The Dark Knight   \n",
      "15      12      162     4.0                 Edward Scissorhands   \n",
      "16      12      176     4.0                                 Saw   \n",
      "17      12      235     5.0                         Stand by Me   \n",
      "18      12      296     5.0  Terminator 3: Rise of the Machines   \n",
      "19      12      322     5.0                        Mystic River   \n",
      "\n",
      "   original_language  vote_count  \n",
      "0                 en      1816.0  \n",
      "1                 en      6150.0  \n",
      "2                 en      1146.0  \n",
      "3                 en      1335.0  \n",
      "4                 en      2252.0  \n",
      "5                 en      3926.0  \n",
      "6                 en      2177.0  \n",
      "7                 en      1706.0  \n",
      "8                 en      3821.0  \n",
      "9                 en      1146.0  \n",
      "10                en      1920.0  \n",
      "11                en      3512.0  \n",
      "12                en      2341.0  \n",
      "13                en      3120.0  \n",
      "14                en     12269.0  \n",
      "15                en      3731.0  \n",
      "16                en      2255.0  \n",
      "17                en      1568.0  \n",
      "18                en      2177.0  \n",
      "19                en      1473.0  \n",
      "(1418992, 6)\n",
      "userId               0\n",
      "movieId              0\n",
      "rating               0\n",
      "original_title       0\n",
      "original_language    0\n",
      "vote_count           0\n",
      "dtype: int64\n",
      "Index(['userId', 'movieId', 'rating', 'original_title', 'original_language',\n",
      "       'vote_count'],\n",
      "      dtype='object')\n"
     ]
    }
   ],
   "source": [
    "print(avaliacoes_e_filmes.head(20))\n",
    "print(avaliacoes_e_filmes.shape)\n",
    "print(avaliacoes_e_filmes.isnull().sum())\n",
    "print(avaliacoes_e_filmes.columns)"
   ]
  },
  {
   "cell_type": "code",
   "execution_count": 43,
   "id": "f08be4f9-306a-4c60-8a9e-774353dc114d",
   "metadata": {},
   "outputs": [],
   "source": [
    "#Retirando campos com duplicidade"
   ]
  },
  {
   "cell_type": "code",
   "execution_count": 44,
   "id": "c569066c-7aa2-47f5-b819-b7ba296c3468",
   "metadata": {},
   "outputs": [
    {
     "name": "stdout",
     "output_type": "stream",
     "text": [
      "(1418991, 6)\n"
     ]
    }
   ],
   "source": [
    "avaliacoes_e_filmes.drop_duplicates(['userId', 'movieId'],inplace=True)\n",
    "avaliacoes_e_filmes.drop_duplicates(['userId', 'original_title'],inplace=True)\n",
    "print(avaliacoes_e_filmes.shape)"
   ]
  },
  {
   "cell_type": "code",
   "execution_count": 45,
   "id": "c659a2b8-402b-4820-b563-72476990e0d3",
   "metadata": {},
   "outputs": [],
   "source": [
    "#Excluindo a coluna movieId"
   ]
  },
  {
   "cell_type": "code",
   "execution_count": 46,
   "id": "6ea9c04e-8375-4c94-8af6-d1194d498ccb",
   "metadata": {},
   "outputs": [],
   "source": [
    "del avaliacoes_e_filmes['movieId']"
   ]
  },
  {
   "cell_type": "code",
   "execution_count": 47,
   "id": "e27b3c88-e171-4a80-a498-7b18d361732f",
   "metadata": {},
   "outputs": [],
   "source": [
    "#Criando um PIVOT para transformar usuarios em coluna"
   ]
  },
  {
   "cell_type": "code",
   "execution_count": 48,
   "id": "014898f5-cf0c-45d0-92b8-a3a1a311cae3",
   "metadata": {},
   "outputs": [
    {
     "name": "stdout",
     "output_type": "stream",
     "text": [
      "userId                        8       11      12      15      16      20      \\\n",
      "original_title                                                                 \n",
      "10 Things I Hate About You       NaN     NaN     NaN     NaN     NaN     NaN   \n",
      "12 Angry Men                     NaN     NaN     NaN     NaN     NaN     NaN   \n",
      "127 Hours                        NaN     NaN     NaN     NaN     NaN     NaN   \n",
      "1408                             NaN     NaN     NaN     NaN     NaN     NaN   \n",
      "2 Fast 2 Furious                 NaN     NaN     NaN     NaN     NaN     NaN   \n",
      "2001: A Space Odyssey            NaN     NaN     NaN     NaN     NaN     NaN   \n",
      "27 Dresses                       NaN     NaN     NaN     NaN     NaN     NaN   \n",
      "28 Days Later                    3.0     NaN     NaN     NaN     NaN     NaN   \n",
      "28 Weeks Later                   NaN     NaN     NaN     NaN     NaN     NaN   \n",
      "300                              NaN     NaN     NaN     NaN     NaN     NaN   \n",
      "3:10 to Yuma                     NaN     NaN     NaN     NaN     NaN     NaN   \n",
      "4: Rise of the Silver Surfer     NaN     NaN     NaN     NaN     NaN     NaN   \n",
      "50 First Dates                   NaN     NaN     NaN     NaN     NaN     NaN   \n",
      "8 Mile                           NaN     NaN     NaN     NaN     NaN     NaN   \n",
      "A Beautiful Mind                 NaN     NaN     NaN     NaN     NaN     NaN   \n",
      "A Clockwork Orange               NaN     NaN     NaN     NaN     NaN     NaN   \n",
      "A Nightmare on Elm Street        NaN     NaN     NaN     NaN     NaN     NaN   \n",
      "A.I. Artificial Intelligence     NaN     NaN     NaN     NaN     NaN     NaN   \n",
      "AVP: Alien vs. Predator          NaN     NaN     NaN     NaN     NaN     NaN   \n",
      "Ace Ventura: Pet Detective       NaN     NaN     NaN     NaN     NaN     NaN   \n",
      "\n",
      "userId                        24      30      34      37      ...  270859  \\\n",
      "original_title                                                ...           \n",
      "10 Things I Hate About You       NaN     NaN     NaN     NaN  ...     NaN   \n",
      "12 Angry Men                     NaN     NaN     NaN     NaN  ...     NaN   \n",
      "127 Hours                        NaN     NaN     NaN     NaN  ...     NaN   \n",
      "1408                             NaN     NaN     NaN     NaN  ...     NaN   \n",
      "2 Fast 2 Furious                 NaN     NaN     NaN     NaN  ...     NaN   \n",
      "2001: A Space Odyssey            2.0     NaN     NaN     NaN  ...     NaN   \n",
      "27 Dresses                       NaN     NaN     NaN     NaN  ...     NaN   \n",
      "28 Days Later                    NaN     NaN     NaN     NaN  ...     NaN   \n",
      "28 Weeks Later                   NaN     NaN     NaN     NaN  ...     NaN   \n",
      "300                              3.0     NaN     NaN     NaN  ...     4.0   \n",
      "3:10 to Yuma                     NaN     NaN     NaN     NaN  ...     NaN   \n",
      "4: Rise of the Silver Surfer     2.0     NaN     NaN     NaN  ...     NaN   \n",
      "50 First Dates                   NaN     NaN     NaN     NaN  ...     NaN   \n",
      "8 Mile                           NaN     NaN     NaN     NaN  ...     NaN   \n",
      "A Beautiful Mind                 NaN     NaN     NaN     NaN  ...     NaN   \n",
      "A Clockwork Orange               NaN     NaN     NaN     NaN  ...     NaN   \n",
      "A Nightmare on Elm Street        4.0     NaN     3.0     NaN  ...     2.5   \n",
      "A.I. Artificial Intelligence     NaN     NaN     NaN     NaN  ...     NaN   \n",
      "AVP: Alien vs. Predator          NaN     NaN     NaN     NaN  ...     NaN   \n",
      "Ace Ventura: Pet Detective       NaN     NaN     NaN     NaN  ...     NaN   \n",
      "\n",
      "userId                        270869  270871  270872  270879  270885  270887  \\\n",
      "original_title                                                                 \n",
      "10 Things I Hate About You       NaN     NaN     NaN     NaN     4.0     NaN   \n",
      "12 Angry Men                     NaN     NaN     NaN     NaN     NaN     NaN   \n",
      "127 Hours                        NaN     NaN     NaN     NaN     NaN     NaN   \n",
      "1408                             NaN     NaN     NaN     NaN     NaN     NaN   \n",
      "2 Fast 2 Furious                 NaN     NaN     NaN     NaN     NaN     NaN   \n",
      "2001: A Space Odyssey            NaN     NaN     NaN     NaN     NaN     NaN   \n",
      "27 Dresses                       NaN     NaN     NaN     NaN     NaN     NaN   \n",
      "28 Days Later                    NaN     4.0     NaN     NaN     NaN     NaN   \n",
      "28 Weeks Later                   NaN     NaN     NaN     NaN     3.0     NaN   \n",
      "300                              NaN     NaN     NaN     NaN     NaN     NaN   \n",
      "3:10 to Yuma                     NaN     NaN     NaN     NaN     NaN     NaN   \n",
      "4: Rise of the Silver Surfer     NaN     NaN     NaN     NaN     NaN     NaN   \n",
      "50 First Dates                   NaN     NaN     NaN     NaN     NaN     NaN   \n",
      "8 Mile                           NaN     NaN     NaN     NaN     4.0     NaN   \n",
      "A Beautiful Mind                 NaN     NaN     NaN     NaN     NaN     NaN   \n",
      "A Clockwork Orange               NaN     NaN     NaN     3.0     NaN     5.0   \n",
      "A Nightmare on Elm Street        NaN     4.0     NaN     NaN     NaN     5.0   \n",
      "A.I. Artificial Intelligence     NaN     NaN     NaN     NaN     NaN     NaN   \n",
      "AVP: Alien vs. Predator          NaN     NaN     NaN     NaN     NaN     NaN   \n",
      "Ace Ventura: Pet Detective       NaN     NaN     NaN     NaN     NaN     NaN   \n",
      "\n",
      "userId                        270893  270894  270896  \n",
      "original_title                                        \n",
      "10 Things I Hate About You       NaN     NaN     NaN  \n",
      "12 Angry Men                     NaN     NaN     NaN  \n",
      "127 Hours                        NaN     NaN     NaN  \n",
      "1408                             NaN     NaN     NaN  \n",
      "2 Fast 2 Furious                 NaN     NaN     NaN  \n",
      "2001: A Space Odyssey            NaN     NaN     NaN  \n",
      "27 Dresses                       NaN     NaN     NaN  \n",
      "28 Days Later                    NaN     NaN     NaN  \n",
      "28 Weeks Later                   NaN     NaN     NaN  \n",
      "300                              NaN     NaN     NaN  \n",
      "3:10 to Yuma                     NaN     NaN     NaN  \n",
      "4: Rise of the Silver Surfer     NaN     NaN     NaN  \n",
      "50 First Dates                   NaN     NaN     NaN  \n",
      "8 Mile                           NaN     NaN     NaN  \n",
      "A Beautiful Mind                 NaN     NaN     NaN  \n",
      "A Clockwork Orange               NaN     NaN     3.0  \n",
      "A Nightmare on Elm Street        NaN     3.0     3.5  \n",
      "A.I. Artificial Intelligence     NaN     NaN     NaN  \n",
      "AVP: Alien vs. Predator          NaN     NaN     NaN  \n",
      "Ace Ventura: Pet Detective       NaN     NaN     NaN  \n",
      "\n",
      "[20 rows x 64268 columns]\n"
     ]
    }
   ],
   "source": [
    "filmes_pivot = avaliacoes_e_filmes.pivot(index='original_title', columns='userId', values='rating')\n",
    "print(filmes_pivot.head(20))"
   ]
  },
  {
   "cell_type": "code",
   "execution_count": 49,
   "id": "0a01f71c-4f54-46b0-b969-ffe29e919685",
   "metadata": {},
   "outputs": [],
   "source": [
    "#Preenchendo os valores nulos com zero"
   ]
  },
  {
   "cell_type": "code",
   "execution_count": 50,
   "id": "4f791b1f-29d1-465b-b018-ad1f3052dbfb",
   "metadata": {},
   "outputs": [
    {
     "name": "stdout",
     "output_type": "stream",
     "text": [
      "userId                        8       11      12      15      16      20      \\\n",
      "original_title                                                                 \n",
      "10 Things I Hate About You       0.0     0.0     0.0     0.0     0.0     0.0   \n",
      "12 Angry Men                     0.0     0.0     0.0     0.0     0.0     0.0   \n",
      "127 Hours                        0.0     0.0     0.0     0.0     0.0     0.0   \n",
      "1408                             0.0     0.0     0.0     0.0     0.0     0.0   \n",
      "2 Fast 2 Furious                 0.0     0.0     0.0     0.0     0.0     0.0   \n",
      "2001: A Space Odyssey            0.0     0.0     0.0     0.0     0.0     0.0   \n",
      "27 Dresses                       0.0     0.0     0.0     0.0     0.0     0.0   \n",
      "28 Days Later                    3.0     0.0     0.0     0.0     0.0     0.0   \n",
      "28 Weeks Later                   0.0     0.0     0.0     0.0     0.0     0.0   \n",
      "300                              0.0     0.0     0.0     0.0     0.0     0.0   \n",
      "3:10 to Yuma                     0.0     0.0     0.0     0.0     0.0     0.0   \n",
      "4: Rise of the Silver Surfer     0.0     0.0     0.0     0.0     0.0     0.0   \n",
      "50 First Dates                   0.0     0.0     0.0     0.0     0.0     0.0   \n",
      "8 Mile                           0.0     0.0     0.0     0.0     0.0     0.0   \n",
      "A Beautiful Mind                 0.0     0.0     0.0     0.0     0.0     0.0   \n",
      "A Clockwork Orange               0.0     0.0     0.0     0.0     0.0     0.0   \n",
      "A Nightmare on Elm Street        0.0     0.0     0.0     0.0     0.0     0.0   \n",
      "A.I. Artificial Intelligence     0.0     0.0     0.0     0.0     0.0     0.0   \n",
      "AVP: Alien vs. Predator          0.0     0.0     0.0     0.0     0.0     0.0   \n",
      "Ace Ventura: Pet Detective       0.0     0.0     0.0     0.0     0.0     0.0   \n",
      "\n",
      "userId                        24      30      34      37      ...  270859  \\\n",
      "original_title                                                ...           \n",
      "10 Things I Hate About You       0.0     0.0     0.0     0.0  ...     0.0   \n",
      "12 Angry Men                     0.0     0.0     0.0     0.0  ...     0.0   \n",
      "127 Hours                        0.0     0.0     0.0     0.0  ...     0.0   \n",
      "1408                             0.0     0.0     0.0     0.0  ...     0.0   \n",
      "2 Fast 2 Furious                 0.0     0.0     0.0     0.0  ...     0.0   \n",
      "2001: A Space Odyssey            2.0     0.0     0.0     0.0  ...     0.0   \n",
      "27 Dresses                       0.0     0.0     0.0     0.0  ...     0.0   \n",
      "28 Days Later                    0.0     0.0     0.0     0.0  ...     0.0   \n",
      "28 Weeks Later                   0.0     0.0     0.0     0.0  ...     0.0   \n",
      "300                              3.0     0.0     0.0     0.0  ...     4.0   \n",
      "3:10 to Yuma                     0.0     0.0     0.0     0.0  ...     0.0   \n",
      "4: Rise of the Silver Surfer     2.0     0.0     0.0     0.0  ...     0.0   \n",
      "50 First Dates                   0.0     0.0     0.0     0.0  ...     0.0   \n",
      "8 Mile                           0.0     0.0     0.0     0.0  ...     0.0   \n",
      "A Beautiful Mind                 0.0     0.0     0.0     0.0  ...     0.0   \n",
      "A Clockwork Orange               0.0     0.0     0.0     0.0  ...     0.0   \n",
      "A Nightmare on Elm Street        4.0     0.0     3.0     0.0  ...     2.5   \n",
      "A.I. Artificial Intelligence     0.0     0.0     0.0     0.0  ...     0.0   \n",
      "AVP: Alien vs. Predator          0.0     0.0     0.0     0.0  ...     0.0   \n",
      "Ace Ventura: Pet Detective       0.0     0.0     0.0     0.0  ...     0.0   \n",
      "\n",
      "userId                        270869  270871  270872  270879  270885  270887  \\\n",
      "original_title                                                                 \n",
      "10 Things I Hate About You       0.0     0.0     0.0     0.0     4.0     0.0   \n",
      "12 Angry Men                     0.0     0.0     0.0     0.0     0.0     0.0   \n",
      "127 Hours                        0.0     0.0     0.0     0.0     0.0     0.0   \n",
      "1408                             0.0     0.0     0.0     0.0     0.0     0.0   \n",
      "2 Fast 2 Furious                 0.0     0.0     0.0     0.0     0.0     0.0   \n",
      "2001: A Space Odyssey            0.0     0.0     0.0     0.0     0.0     0.0   \n",
      "27 Dresses                       0.0     0.0     0.0     0.0     0.0     0.0   \n",
      "28 Days Later                    0.0     4.0     0.0     0.0     0.0     0.0   \n",
      "28 Weeks Later                   0.0     0.0     0.0     0.0     3.0     0.0   \n",
      "300                              0.0     0.0     0.0     0.0     0.0     0.0   \n",
      "3:10 to Yuma                     0.0     0.0     0.0     0.0     0.0     0.0   \n",
      "4: Rise of the Silver Surfer     0.0     0.0     0.0     0.0     0.0     0.0   \n",
      "50 First Dates                   0.0     0.0     0.0     0.0     0.0     0.0   \n",
      "8 Mile                           0.0     0.0     0.0     0.0     4.0     0.0   \n",
      "A Beautiful Mind                 0.0     0.0     0.0     0.0     0.0     0.0   \n",
      "A Clockwork Orange               0.0     0.0     0.0     3.0     0.0     5.0   \n",
      "A Nightmare on Elm Street        0.0     4.0     0.0     0.0     0.0     5.0   \n",
      "A.I. Artificial Intelligence     0.0     0.0     0.0     0.0     0.0     0.0   \n",
      "AVP: Alien vs. Predator          0.0     0.0     0.0     0.0     0.0     0.0   \n",
      "Ace Ventura: Pet Detective       0.0     0.0     0.0     0.0     0.0     0.0   \n",
      "\n",
      "userId                        270893  270894  270896  \n",
      "original_title                                        \n",
      "10 Things I Hate About You       0.0     0.0     0.0  \n",
      "12 Angry Men                     0.0     0.0     0.0  \n",
      "127 Hours                        0.0     0.0     0.0  \n",
      "1408                             0.0     0.0     0.0  \n",
      "2 Fast 2 Furious                 0.0     0.0     0.0  \n",
      "2001: A Space Odyssey            0.0     0.0     0.0  \n",
      "27 Dresses                       0.0     0.0     0.0  \n",
      "28 Days Later                    0.0     0.0     0.0  \n",
      "28 Weeks Later                   0.0     0.0     0.0  \n",
      "300                              0.0     0.0     0.0  \n",
      "3:10 to Yuma                     0.0     0.0     0.0  \n",
      "4: Rise of the Silver Surfer     0.0     0.0     0.0  \n",
      "50 First Dates                   0.0     0.0     0.0  \n",
      "8 Mile                           0.0     0.0     0.0  \n",
      "A Beautiful Mind                 0.0     0.0     0.0  \n",
      "A Clockwork Orange               0.0     0.0     3.0  \n",
      "A Nightmare on Elm Street        0.0     3.0     3.5  \n",
      "A.I. Artificial Intelligence     0.0     0.0     0.0  \n",
      "AVP: Alien vs. Predator          0.0     0.0     0.0  \n",
      "Ace Ventura: Pet Detective       0.0     0.0     0.0  \n",
      "\n",
      "[20 rows x 64268 columns]\n"
     ]
    }
   ],
   "source": [
    "filmes_pivot.fillna(0, inplace=True)\n",
    "print(filmes_pivot.head(20))"
   ]
  },
  {
   "cell_type": "code",
   "execution_count": 51,
   "id": "87038f54-17c6-446a-9c7a-0601a539f9ee",
   "metadata": {},
   "outputs": [],
   "source": [
    "#Importando csr_matrix do SciPy"
   ]
  },
  {
   "cell_type": "code",
   "execution_count": 52,
   "id": "8cc760c1-84b0-4ef7-a720-6b07d99f76a8",
   "metadata": {},
   "outputs": [],
   "source": [
    "from scipy.sparse import csr_matrix"
   ]
  },
  {
   "cell_type": "code",
   "execution_count": 53,
   "id": "c9105aba-8489-40c7-9eb0-b60e6fd9be18",
   "metadata": {},
   "outputs": [],
   "source": [
    "#Transformando o dataset em uma matriz sparsa"
   ]
  },
  {
   "cell_type": "code",
   "execution_count": 54,
   "id": "6ecf428a-85fe-49ee-bc13-52d3337c7ec4",
   "metadata": {},
   "outputs": [],
   "source": [
    "filmes_sparse = csr_matrix(filmes_pivot)"
   ]
  },
  {
   "cell_type": "code",
   "execution_count": 55,
   "id": "d157d00b-9f1c-4002-97d7-4d5931b1034e",
   "metadata": {},
   "outputs": [],
   "source": [
    "#Importando KNN do SciKit"
   ]
  },
  {
   "cell_type": "code",
   "execution_count": 56,
   "id": "8ab01a97-6d5f-4468-9f7a-a28bb73924d1",
   "metadata": {},
   "outputs": [],
   "source": [
    "from sklearn.neighbors import NearestNeighbors"
   ]
  },
  {
   "cell_type": "code",
   "execution_count": 57,
   "id": "a665bf1b-0740-4bdc-b382-270c930d2dc9",
   "metadata": {},
   "outputs": [],
   "source": [
    "#Treinando o Modelo"
   ]
  },
  {
   "cell_type": "code",
   "execution_count": 58,
   "id": "db9800fb-d966-4948-9b2f-605ccb6b952c",
   "metadata": {},
   "outputs": [
    {
     "data": {
      "text/html": [
       "<style>#sk-container-id-1 {\n",
       "  /* Definition of color scheme common for light and dark mode */\n",
       "  --sklearn-color-text: #000;\n",
       "  --sklearn-color-text-muted: #666;\n",
       "  --sklearn-color-line: gray;\n",
       "  /* Definition of color scheme for unfitted estimators */\n",
       "  --sklearn-color-unfitted-level-0: #fff5e6;\n",
       "  --sklearn-color-unfitted-level-1: #f6e4d2;\n",
       "  --sklearn-color-unfitted-level-2: #ffe0b3;\n",
       "  --sklearn-color-unfitted-level-3: chocolate;\n",
       "  /* Definition of color scheme for fitted estimators */\n",
       "  --sklearn-color-fitted-level-0: #f0f8ff;\n",
       "  --sklearn-color-fitted-level-1: #d4ebff;\n",
       "  --sklearn-color-fitted-level-2: #b3dbfd;\n",
       "  --sklearn-color-fitted-level-3: cornflowerblue;\n",
       "\n",
       "  /* Specific color for light theme */\n",
       "  --sklearn-color-text-on-default-background: var(--sg-text-color, var(--theme-code-foreground, var(--jp-content-font-color1, black)));\n",
       "  --sklearn-color-background: var(--sg-background-color, var(--theme-background, var(--jp-layout-color0, white)));\n",
       "  --sklearn-color-border-box: var(--sg-text-color, var(--theme-code-foreground, var(--jp-content-font-color1, black)));\n",
       "  --sklearn-color-icon: #696969;\n",
       "\n",
       "  @media (prefers-color-scheme: dark) {\n",
       "    /* Redefinition of color scheme for dark theme */\n",
       "    --sklearn-color-text-on-default-background: var(--sg-text-color, var(--theme-code-foreground, var(--jp-content-font-color1, white)));\n",
       "    --sklearn-color-background: var(--sg-background-color, var(--theme-background, var(--jp-layout-color0, #111)));\n",
       "    --sklearn-color-border-box: var(--sg-text-color, var(--theme-code-foreground, var(--jp-content-font-color1, white)));\n",
       "    --sklearn-color-icon: #878787;\n",
       "  }\n",
       "}\n",
       "\n",
       "#sk-container-id-1 {\n",
       "  color: var(--sklearn-color-text);\n",
       "}\n",
       "\n",
       "#sk-container-id-1 pre {\n",
       "  padding: 0;\n",
       "}\n",
       "\n",
       "#sk-container-id-1 input.sk-hidden--visually {\n",
       "  border: 0;\n",
       "  clip: rect(1px 1px 1px 1px);\n",
       "  clip: rect(1px, 1px, 1px, 1px);\n",
       "  height: 1px;\n",
       "  margin: -1px;\n",
       "  overflow: hidden;\n",
       "  padding: 0;\n",
       "  position: absolute;\n",
       "  width: 1px;\n",
       "}\n",
       "\n",
       "#sk-container-id-1 div.sk-dashed-wrapped {\n",
       "  border: 1px dashed var(--sklearn-color-line);\n",
       "  margin: 0 0.4em 0.5em 0.4em;\n",
       "  box-sizing: border-box;\n",
       "  padding-bottom: 0.4em;\n",
       "  background-color: var(--sklearn-color-background);\n",
       "}\n",
       "\n",
       "#sk-container-id-1 div.sk-container {\n",
       "  /* jupyter's `normalize.less` sets `[hidden] { display: none; }`\n",
       "     but bootstrap.min.css set `[hidden] { display: none !important; }`\n",
       "     so we also need the `!important` here to be able to override the\n",
       "     default hidden behavior on the sphinx rendered scikit-learn.org.\n",
       "     See: https://github.com/scikit-learn/scikit-learn/issues/21755 */\n",
       "  display: inline-block !important;\n",
       "  position: relative;\n",
       "}\n",
       "\n",
       "#sk-container-id-1 div.sk-text-repr-fallback {\n",
       "  display: none;\n",
       "}\n",
       "\n",
       "div.sk-parallel-item,\n",
       "div.sk-serial,\n",
       "div.sk-item {\n",
       "  /* draw centered vertical line to link estimators */\n",
       "  background-image: linear-gradient(var(--sklearn-color-text-on-default-background), var(--sklearn-color-text-on-default-background));\n",
       "  background-size: 2px 100%;\n",
       "  background-repeat: no-repeat;\n",
       "  background-position: center center;\n",
       "}\n",
       "\n",
       "/* Parallel-specific style estimator block */\n",
       "\n",
       "#sk-container-id-1 div.sk-parallel-item::after {\n",
       "  content: \"\";\n",
       "  width: 100%;\n",
       "  border-bottom: 2px solid var(--sklearn-color-text-on-default-background);\n",
       "  flex-grow: 1;\n",
       "}\n",
       "\n",
       "#sk-container-id-1 div.sk-parallel {\n",
       "  display: flex;\n",
       "  align-items: stretch;\n",
       "  justify-content: center;\n",
       "  background-color: var(--sklearn-color-background);\n",
       "  position: relative;\n",
       "}\n",
       "\n",
       "#sk-container-id-1 div.sk-parallel-item {\n",
       "  display: flex;\n",
       "  flex-direction: column;\n",
       "}\n",
       "\n",
       "#sk-container-id-1 div.sk-parallel-item:first-child::after {\n",
       "  align-self: flex-end;\n",
       "  width: 50%;\n",
       "}\n",
       "\n",
       "#sk-container-id-1 div.sk-parallel-item:last-child::after {\n",
       "  align-self: flex-start;\n",
       "  width: 50%;\n",
       "}\n",
       "\n",
       "#sk-container-id-1 div.sk-parallel-item:only-child::after {\n",
       "  width: 0;\n",
       "}\n",
       "\n",
       "/* Serial-specific style estimator block */\n",
       "\n",
       "#sk-container-id-1 div.sk-serial {\n",
       "  display: flex;\n",
       "  flex-direction: column;\n",
       "  align-items: center;\n",
       "  background-color: var(--sklearn-color-background);\n",
       "  padding-right: 1em;\n",
       "  padding-left: 1em;\n",
       "}\n",
       "\n",
       "\n",
       "/* Toggleable style: style used for estimator/Pipeline/ColumnTransformer box that is\n",
       "clickable and can be expanded/collapsed.\n",
       "- Pipeline and ColumnTransformer use this feature and define the default style\n",
       "- Estimators will overwrite some part of the style using the `sk-estimator` class\n",
       "*/\n",
       "\n",
       "/* Pipeline and ColumnTransformer style (default) */\n",
       "\n",
       "#sk-container-id-1 div.sk-toggleable {\n",
       "  /* Default theme specific background. It is overwritten whether we have a\n",
       "  specific estimator or a Pipeline/ColumnTransformer */\n",
       "  background-color: var(--sklearn-color-background);\n",
       "}\n",
       "\n",
       "/* Toggleable label */\n",
       "#sk-container-id-1 label.sk-toggleable__label {\n",
       "  cursor: pointer;\n",
       "  display: flex;\n",
       "  width: 100%;\n",
       "  margin-bottom: 0;\n",
       "  padding: 0.5em;\n",
       "  box-sizing: border-box;\n",
       "  text-align: center;\n",
       "  align-items: start;\n",
       "  justify-content: space-between;\n",
       "  gap: 0.5em;\n",
       "}\n",
       "\n",
       "#sk-container-id-1 label.sk-toggleable__label .caption {\n",
       "  font-size: 0.6rem;\n",
       "  font-weight: lighter;\n",
       "  color: var(--sklearn-color-text-muted);\n",
       "}\n",
       "\n",
       "#sk-container-id-1 label.sk-toggleable__label-arrow:before {\n",
       "  /* Arrow on the left of the label */\n",
       "  content: \"▸\";\n",
       "  float: left;\n",
       "  margin-right: 0.25em;\n",
       "  color: var(--sklearn-color-icon);\n",
       "}\n",
       "\n",
       "#sk-container-id-1 label.sk-toggleable__label-arrow:hover:before {\n",
       "  color: var(--sklearn-color-text);\n",
       "}\n",
       "\n",
       "/* Toggleable content - dropdown */\n",
       "\n",
       "#sk-container-id-1 div.sk-toggleable__content {\n",
       "  max-height: 0;\n",
       "  max-width: 0;\n",
       "  overflow: hidden;\n",
       "  text-align: left;\n",
       "  /* unfitted */\n",
       "  background-color: var(--sklearn-color-unfitted-level-0);\n",
       "}\n",
       "\n",
       "#sk-container-id-1 div.sk-toggleable__content.fitted {\n",
       "  /* fitted */\n",
       "  background-color: var(--sklearn-color-fitted-level-0);\n",
       "}\n",
       "\n",
       "#sk-container-id-1 div.sk-toggleable__content pre {\n",
       "  margin: 0.2em;\n",
       "  border-radius: 0.25em;\n",
       "  color: var(--sklearn-color-text);\n",
       "  /* unfitted */\n",
       "  background-color: var(--sklearn-color-unfitted-level-0);\n",
       "}\n",
       "\n",
       "#sk-container-id-1 div.sk-toggleable__content.fitted pre {\n",
       "  /* unfitted */\n",
       "  background-color: var(--sklearn-color-fitted-level-0);\n",
       "}\n",
       "\n",
       "#sk-container-id-1 input.sk-toggleable__control:checked~div.sk-toggleable__content {\n",
       "  /* Expand drop-down */\n",
       "  max-height: 200px;\n",
       "  max-width: 100%;\n",
       "  overflow: auto;\n",
       "}\n",
       "\n",
       "#sk-container-id-1 input.sk-toggleable__control:checked~label.sk-toggleable__label-arrow:before {\n",
       "  content: \"▾\";\n",
       "}\n",
       "\n",
       "/* Pipeline/ColumnTransformer-specific style */\n",
       "\n",
       "#sk-container-id-1 div.sk-label input.sk-toggleable__control:checked~label.sk-toggleable__label {\n",
       "  color: var(--sklearn-color-text);\n",
       "  background-color: var(--sklearn-color-unfitted-level-2);\n",
       "}\n",
       "\n",
       "#sk-container-id-1 div.sk-label.fitted input.sk-toggleable__control:checked~label.sk-toggleable__label {\n",
       "  background-color: var(--sklearn-color-fitted-level-2);\n",
       "}\n",
       "\n",
       "/* Estimator-specific style */\n",
       "\n",
       "/* Colorize estimator box */\n",
       "#sk-container-id-1 div.sk-estimator input.sk-toggleable__control:checked~label.sk-toggleable__label {\n",
       "  /* unfitted */\n",
       "  background-color: var(--sklearn-color-unfitted-level-2);\n",
       "}\n",
       "\n",
       "#sk-container-id-1 div.sk-estimator.fitted input.sk-toggleable__control:checked~label.sk-toggleable__label {\n",
       "  /* fitted */\n",
       "  background-color: var(--sklearn-color-fitted-level-2);\n",
       "}\n",
       "\n",
       "#sk-container-id-1 div.sk-label label.sk-toggleable__label,\n",
       "#sk-container-id-1 div.sk-label label {\n",
       "  /* The background is the default theme color */\n",
       "  color: var(--sklearn-color-text-on-default-background);\n",
       "}\n",
       "\n",
       "/* On hover, darken the color of the background */\n",
       "#sk-container-id-1 div.sk-label:hover label.sk-toggleable__label {\n",
       "  color: var(--sklearn-color-text);\n",
       "  background-color: var(--sklearn-color-unfitted-level-2);\n",
       "}\n",
       "\n",
       "/* Label box, darken color on hover, fitted */\n",
       "#sk-container-id-1 div.sk-label.fitted:hover label.sk-toggleable__label.fitted {\n",
       "  color: var(--sklearn-color-text);\n",
       "  background-color: var(--sklearn-color-fitted-level-2);\n",
       "}\n",
       "\n",
       "/* Estimator label */\n",
       "\n",
       "#sk-container-id-1 div.sk-label label {\n",
       "  font-family: monospace;\n",
       "  font-weight: bold;\n",
       "  display: inline-block;\n",
       "  line-height: 1.2em;\n",
       "}\n",
       "\n",
       "#sk-container-id-1 div.sk-label-container {\n",
       "  text-align: center;\n",
       "}\n",
       "\n",
       "/* Estimator-specific */\n",
       "#sk-container-id-1 div.sk-estimator {\n",
       "  font-family: monospace;\n",
       "  border: 1px dotted var(--sklearn-color-border-box);\n",
       "  border-radius: 0.25em;\n",
       "  box-sizing: border-box;\n",
       "  margin-bottom: 0.5em;\n",
       "  /* unfitted */\n",
       "  background-color: var(--sklearn-color-unfitted-level-0);\n",
       "}\n",
       "\n",
       "#sk-container-id-1 div.sk-estimator.fitted {\n",
       "  /* fitted */\n",
       "  background-color: var(--sklearn-color-fitted-level-0);\n",
       "}\n",
       "\n",
       "/* on hover */\n",
       "#sk-container-id-1 div.sk-estimator:hover {\n",
       "  /* unfitted */\n",
       "  background-color: var(--sklearn-color-unfitted-level-2);\n",
       "}\n",
       "\n",
       "#sk-container-id-1 div.sk-estimator.fitted:hover {\n",
       "  /* fitted */\n",
       "  background-color: var(--sklearn-color-fitted-level-2);\n",
       "}\n",
       "\n",
       "/* Specification for estimator info (e.g. \"i\" and \"?\") */\n",
       "\n",
       "/* Common style for \"i\" and \"?\" */\n",
       "\n",
       ".sk-estimator-doc-link,\n",
       "a:link.sk-estimator-doc-link,\n",
       "a:visited.sk-estimator-doc-link {\n",
       "  float: right;\n",
       "  font-size: smaller;\n",
       "  line-height: 1em;\n",
       "  font-family: monospace;\n",
       "  background-color: var(--sklearn-color-background);\n",
       "  border-radius: 1em;\n",
       "  height: 1em;\n",
       "  width: 1em;\n",
       "  text-decoration: none !important;\n",
       "  margin-left: 0.5em;\n",
       "  text-align: center;\n",
       "  /* unfitted */\n",
       "  border: var(--sklearn-color-unfitted-level-1) 1pt solid;\n",
       "  color: var(--sklearn-color-unfitted-level-1);\n",
       "}\n",
       "\n",
       ".sk-estimator-doc-link.fitted,\n",
       "a:link.sk-estimator-doc-link.fitted,\n",
       "a:visited.sk-estimator-doc-link.fitted {\n",
       "  /* fitted */\n",
       "  border: var(--sklearn-color-fitted-level-1) 1pt solid;\n",
       "  color: var(--sklearn-color-fitted-level-1);\n",
       "}\n",
       "\n",
       "/* On hover */\n",
       "div.sk-estimator:hover .sk-estimator-doc-link:hover,\n",
       ".sk-estimator-doc-link:hover,\n",
       "div.sk-label-container:hover .sk-estimator-doc-link:hover,\n",
       ".sk-estimator-doc-link:hover {\n",
       "  /* unfitted */\n",
       "  background-color: var(--sklearn-color-unfitted-level-3);\n",
       "  color: var(--sklearn-color-background);\n",
       "  text-decoration: none;\n",
       "}\n",
       "\n",
       "div.sk-estimator.fitted:hover .sk-estimator-doc-link.fitted:hover,\n",
       ".sk-estimator-doc-link.fitted:hover,\n",
       "div.sk-label-container:hover .sk-estimator-doc-link.fitted:hover,\n",
       ".sk-estimator-doc-link.fitted:hover {\n",
       "  /* fitted */\n",
       "  background-color: var(--sklearn-color-fitted-level-3);\n",
       "  color: var(--sklearn-color-background);\n",
       "  text-decoration: none;\n",
       "}\n",
       "\n",
       "/* Span, style for the box shown on hovering the info icon */\n",
       ".sk-estimator-doc-link span {\n",
       "  display: none;\n",
       "  z-index: 9999;\n",
       "  position: relative;\n",
       "  font-weight: normal;\n",
       "  right: .2ex;\n",
       "  padding: .5ex;\n",
       "  margin: .5ex;\n",
       "  width: min-content;\n",
       "  min-width: 20ex;\n",
       "  max-width: 50ex;\n",
       "  color: var(--sklearn-color-text);\n",
       "  box-shadow: 2pt 2pt 4pt #999;\n",
       "  /* unfitted */\n",
       "  background: var(--sklearn-color-unfitted-level-0);\n",
       "  border: .5pt solid var(--sklearn-color-unfitted-level-3);\n",
       "}\n",
       "\n",
       ".sk-estimator-doc-link.fitted span {\n",
       "  /* fitted */\n",
       "  background: var(--sklearn-color-fitted-level-0);\n",
       "  border: var(--sklearn-color-fitted-level-3);\n",
       "}\n",
       "\n",
       ".sk-estimator-doc-link:hover span {\n",
       "  display: block;\n",
       "}\n",
       "\n",
       "/* \"?\"-specific style due to the `<a>` HTML tag */\n",
       "\n",
       "#sk-container-id-1 a.estimator_doc_link {\n",
       "  float: right;\n",
       "  font-size: 1rem;\n",
       "  line-height: 1em;\n",
       "  font-family: monospace;\n",
       "  background-color: var(--sklearn-color-background);\n",
       "  border-radius: 1rem;\n",
       "  height: 1rem;\n",
       "  width: 1rem;\n",
       "  text-decoration: none;\n",
       "  /* unfitted */\n",
       "  color: var(--sklearn-color-unfitted-level-1);\n",
       "  border: var(--sklearn-color-unfitted-level-1) 1pt solid;\n",
       "}\n",
       "\n",
       "#sk-container-id-1 a.estimator_doc_link.fitted {\n",
       "  /* fitted */\n",
       "  border: var(--sklearn-color-fitted-level-1) 1pt solid;\n",
       "  color: var(--sklearn-color-fitted-level-1);\n",
       "}\n",
       "\n",
       "/* On hover */\n",
       "#sk-container-id-1 a.estimator_doc_link:hover {\n",
       "  /* unfitted */\n",
       "  background-color: var(--sklearn-color-unfitted-level-3);\n",
       "  color: var(--sklearn-color-background);\n",
       "  text-decoration: none;\n",
       "}\n",
       "\n",
       "#sk-container-id-1 a.estimator_doc_link.fitted:hover {\n",
       "  /* fitted */\n",
       "  background-color: var(--sklearn-color-fitted-level-3);\n",
       "}\n",
       "</style><div id=\"sk-container-id-1\" class=\"sk-top-container\"><div class=\"sk-text-repr-fallback\"><pre>NearestNeighbors(algorithm=&#x27;brute&#x27;)</pre><b>In a Jupyter environment, please rerun this cell to show the HTML representation or trust the notebook. <br />On GitHub, the HTML representation is unable to render, please try loading this page with nbviewer.org.</b></div><div class=\"sk-container\" hidden><div class=\"sk-item\"><div class=\"sk-estimator fitted sk-toggleable\"><input class=\"sk-toggleable__control sk-hidden--visually\" id=\"sk-estimator-id-1\" type=\"checkbox\" checked><label for=\"sk-estimator-id-1\" class=\"sk-toggleable__label fitted sk-toggleable__label-arrow\"><div><div>NearestNeighbors</div></div><div><a class=\"sk-estimator-doc-link fitted\" rel=\"noreferrer\" target=\"_blank\" href=\"https://scikit-learn.org/1.6/modules/generated/sklearn.neighbors.NearestNeighbors.html\">?<span>Documentation for NearestNeighbors</span></a><span class=\"sk-estimator-doc-link fitted\">i<span>Fitted</span></span></div></label><div class=\"sk-toggleable__content fitted\"><pre>NearestNeighbors(algorithm=&#x27;brute&#x27;)</pre></div> </div></div></div></div>"
      ],
      "text/plain": [
       "NearestNeighbors(algorithm='brute')"
      ]
     },
     "execution_count": 58,
     "metadata": {},
     "output_type": "execute_result"
    }
   ],
   "source": [
    "model = NearestNeighbors(algorithm = 'brute')\n",
    "model.fit(filmes_sparse)"
   ]
  },
  {
   "cell_type": "code",
   "execution_count": 59,
   "id": "2e30f0f0-385b-4480-85d4-6381eb62c086",
   "metadata": {},
   "outputs": [],
   "source": [
    "#Testando o modelo utilizando filmes"
   ]
  },
  {
   "cell_type": "code",
   "execution_count": 60,
   "id": "30aed1e6-990b-4233-a18f-bd22df8a166c",
   "metadata": {},
   "outputs": [
    {
     "name": "stdout",
     "output_type": "stream",
     "text": [
      "Index(['300', 'Liar Liar', 'Ice Age', 'Snow White and the Seven Dwarfs',\n",
      "       'Ratatouille'],\n",
      "      dtype='object', name='original_title') \n",
      "\n"
     ]
    }
   ],
   "source": [
    "distances, sugestions = model.kneighbors(filmes_pivot.filter(items = ['300'], axis = 0).values.reshape(1, -1))\n",
    "for i in range(len(sugestions)):\n",
    "    print(filmes_pivot.index[sugestions[i]],'\\n')\n"
   ]
  },
  {
   "cell_type": "code",
   "execution_count": 61,
   "id": "63da071e-20bf-4b57-a73d-492ce5f1f53f",
   "metadata": {},
   "outputs": [
    {
     "name": "stdout",
     "output_type": "stream",
     "text": [
      "Index(['Antz', 'Dumb and Dumber To', 'Inception', 'Bambi',\n",
      "       'The Angry Birds Movie'],\n",
      "      dtype='object', name='original_title') \n",
      "\n"
     ]
    }
   ],
   "source": [
    "#Antz\n",
    "distances, sugestions = model.kneighbors(filmes_pivot.filter(items = ['Antz'], axis = 0).values.reshape(1, -1))\n",
    "for i in range(len(sugestions)):\n",
    "    print(filmes_pivot.index[sugestions[i]],'\\n')"
   ]
  },
  {
   "cell_type": "code",
   "execution_count": 62,
   "id": "22b8da7c-5f33-4622-9dec-3137ba1ccefc",
   "metadata": {},
   "outputs": [
    {
     "name": "stdout",
     "output_type": "stream",
     "text": [
      "Index(['Alien', 'Being John Malkovich', 'The Shawshank Redemption',\n",
      "       'Jurassic Park III', 'Pirates of the Caribbean: On Stranger Tides'],\n",
      "      dtype='object', name='original_title') \n",
      "\n"
     ]
    }
   ],
   "source": [
    "#Alien\n",
    "distances, sugestions = model.kneighbors(filmes_pivot.filter(items = ['Alien'], axis = 0).values.reshape(1, -1))\n",
    "for i in range(len(sugestions)):\n",
    "    print(filmes_pivot.index[sugestions[i]],'\\n')"
   ]
  },
  {
   "cell_type": "code",
   "execution_count": 63,
   "id": "30c345ec-bee1-4375-b783-c589e09e595a",
   "metadata": {},
   "outputs": [
    {
     "name": "stdout",
     "output_type": "stream",
     "text": [
      "Index(['Casper', 'Snitch', 'RED 2', 'Teenage Mutant Ninja Turtles',\n",
      "       'The Expendables 2'],\n",
      "      dtype='object', name='original_title') \n",
      "\n"
     ]
    }
   ],
   "source": [
    "#Casper\n",
    "distances, sugestions = model.kneighbors(filmes_pivot.filter(items = ['Casper'], axis = 0).values.reshape(1, -1))\n",
    "for i in range(len(sugestions)):\n",
    "    print(filmes_pivot.index[sugestions[i]],'\\n')"
   ]
  },
  {
   "cell_type": "code",
   "execution_count": 64,
   "id": "99fe4943-7040-4f45-a0e2-496f6ca66c7e",
   "metadata": {},
   "outputs": [
    {
     "name": "stdout",
     "output_type": "stream",
     "text": [
      "Index(['Toy Story', 'Bambi', 'RED 2', 'Teenage Mutant Ninja Turtles',\n",
      "       'The Hunger Games: Mockingjay - Part 2'],\n",
      "      dtype='object', name='original_title') \n",
      "\n"
     ]
    }
   ],
   "source": [
    "#Toy Story\n",
    "distances, sugestions = model.kneighbors(filmes_pivot.filter(items = ['Toy Story'], axis = 0).values.reshape(1, -1))\n",
    "for i in range(len(sugestions)):\n",
    "    print(filmes_pivot.index[sugestions[i]],'\\n')"
   ]
  }
 ],
 "metadata": {
  "kernelspec": {
   "display_name": "Python 3 (ipykernel)",
   "language": "python",
   "name": "python3"
  },
  "language_info": {
   "codemirror_mode": {
    "name": "ipython",
    "version": 3
   },
   "file_extension": ".py",
   "mimetype": "text/x-python",
   "name": "python",
   "nbconvert_exporter": "python",
   "pygments_lexer": "ipython3",
   "version": "3.12.4"
  }
 },
 "nbformat": 4,
 "nbformat_minor": 5
}
